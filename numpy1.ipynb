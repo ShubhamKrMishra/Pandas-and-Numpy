{
  "cells": [
    {
      "cell_type": "code",
      "execution_count": null,
      "id": "03884bce",
      "metadata": {
        "id": "03884bce"
      },
      "outputs": [],
      "source": [
        "# operators, functions, loops, conditional statements, collections\n",
        "# OOPs -> encapsulation, inheritance, abstraction and polymorphism"
      ]
    },
    {
      "cell_type": "code",
      "execution_count": null,
      "id": "787eee76",
      "metadata": {
        "id": "787eee76"
      },
      "outputs": [],
      "source": [
        "# NUMPY -> Numerical Python -> 30k - 300k\n",
        "# collect the data -> preprocess(clean) the data"
      ]
    },
    {
      "cell_type": "code",
      "execution_count": null,
      "id": "738adc29",
      "metadata": {
        "id": "738adc29",
        "outputId": "b481c670-904d-4773-a4e3-99b2ec19bb29"
      },
      "outputs": [
        {
          "name": "stdout",
          "output_type": "stream",
          "text": [
            "['srk', 'deepika', 'sidharth'] ['vijay', 'rashmika', 'vamshi']\n"
          ]
        }
      ],
      "source": [
        "# n dimensions\n",
        "\n",
        "# 1d -> row or col\n",
        "heros = ['srk', 'vijay', 'ajith', 'yash', 'ntr']\n",
        "# print(heros)\n",
        "\n",
        "# 2d -> row and col\n",
        "pairs = [\n",
        "    ['srk', 'deepika', 'sidharth'],\n",
        "    ['vijay', 'rashmika', 'vamshi'],\n",
        "    ['ntr', 'alia', 'ssr']\n",
        "]\n",
        "print(pairs[0], pairs[1])"
      ]
    },
    {
      "cell_type": "code",
      "execution_count": null,
      "id": "52432c5a",
      "metadata": {
        "id": "52432c5a"
      },
      "outputs": [],
      "source": [
        "# 3d volume of obj -> l * b * h"
      ]
    },
    {
      "cell_type": "code",
      "execution_count": null,
      "id": "b2dedf7c",
      "metadata": {
        "id": "b2dedf7c",
        "outputId": "4845d594-5c4d-48ca-f2e0-cc945f433509"
      },
      "outputs": [
        {
          "name": "stdout",
          "output_type": "stream",
          "text": [
            "Requirement already satisfied: numpy in c:\\users\\admin\\anaconda3\\lib\\site-packages (1.21.5)\n",
            "Note: you may need to restart the kernel to use updated packages.\n"
          ]
        }
      ],
      "source": [
        "# pip install numpy\n",
        "# conda install numpy"
      ]
    },
    {
      "cell_type": "code",
      "execution_count": null,
      "id": "34fa9836",
      "metadata": {
        "id": "34fa9836",
        "outputId": "c206f150-ed8b-4181-af2e-b580accb61b0"
      },
      "outputs": [
        {
          "name": "stdout",
          "output_type": "stream",
          "text": [
            "1.21.5\n"
          ]
        }
      ],
      "source": [
        "import numpy\n",
        "print(numpy.__version__)"
      ]
    },
    {
      "cell_type": "code",
      "execution_count": null,
      "id": "f564f167",
      "metadata": {
        "id": "f564f167",
        "outputId": "08f28458-ece8-4c48-994b-7e61d77a01aa"
      },
      "outputs": [
        {
          "name": "stdout",
          "output_type": "stream",
          "text": [
            "[1, True, 10.5, 'das']\n"
          ]
        }
      ],
      "source": [
        "nums = [1, True, 10.5, 'das']\n",
        "print(nums)"
      ]
    },
    {
      "cell_type": "code",
      "execution_count": null,
      "id": "79e773f4",
      "metadata": {
        "id": "79e773f4",
        "outputId": "1cf2bf11-0621-421e-efdb-b8fc6656d478"
      },
      "outputs": [
        {
          "name": "stdout",
          "output_type": "stream",
          "text": [
            "[1 2 3] <class 'numpy.ndarray'>\n"
          ]
        }
      ],
      "source": [
        "# Numpy -> one datatype\n",
        "import numpy as np\n",
        "\n",
        "list_nums = [1, 2, 3]\n",
        "nums = np.array(list_nums)\n",
        "print(nums, type(nums))"
      ]
    },
    {
      "cell_type": "code",
      "execution_count": null,
      "id": "18621eee",
      "metadata": {
        "id": "18621eee",
        "outputId": "29dbe6cd-9a58-4846-acab-ee0a3dcbebcd"
      },
      "outputs": [
        {
          "name": "stdout",
          "output_type": "stream",
          "text": [
            "15\n"
          ]
        }
      ],
      "source": [
        "import numpy as np\n",
        "\n",
        "# nums = np.array([1, 2, 3, 4, 5], dtype='int64')\n",
        "# print(nums)\n",
        "# print(type(nums), nums.dtype)\n",
        "# print(nums.shape)\n",
        "# print(nums.ndim)\n",
        "# print(nums.size, len(nums))\n",
        "# print(nums.itemsize)\n",
        "# print(np.sum(nums))"
      ]
    },
    {
      "cell_type": "code",
      "execution_count": null,
      "id": "f721e42c",
      "metadata": {
        "id": "f721e42c",
        "outputId": "a112ae19-afc8-4920-c7c5-0c1a6b7ed358"
      },
      "outputs": [
        {
          "name": "stdout",
          "output_type": "stream",
          "text": [
            "my name is sandhya and age is 5\n"
          ]
        }
      ],
      "source": [
        "# def display(name, age):\n",
        "#     print(f'my name is {name} and age is {age}')\n",
        "\n",
        "# display(age = 5, name = 'sandhya')"
      ]
    },
    {
      "cell_type": "code",
      "execution_count": null,
      "id": "283284e1",
      "metadata": {
        "id": "283284e1",
        "outputId": "90cba1db-d6aa-436f-d444-664bb52b7d65"
      },
      "outputs": [
        {
          "name": "stdout",
          "output_type": "stream",
          "text": [
            "45\n"
          ]
        }
      ],
      "source": [
        "# 2d\n",
        "nums = np.array([\n",
        "    [1, 2, 3],\n",
        "    [4, 5, 6],\n",
        "    [7, 8, 9]\n",
        "])\n",
        "\n",
        "# print(nums)\n",
        "# print(type(nums), nums.dtype)\n",
        "# print(nums.shape)\n",
        "# print(nums.ndim)\n",
        "# print(nums.size, len(nums))\n",
        "# print(nums.itemsize)\n",
        "# print(np.sum(nums))\n"
      ]
    },
    {
      "cell_type": "code",
      "execution_count": null,
      "id": "2fe8c478",
      "metadata": {
        "id": "2fe8c478",
        "outputId": "8476f869-f540-449d-e177-53021ddc641b"
      },
      "outputs": [
        {
          "name": "stdout",
          "output_type": "stream",
          "text": [
            "(3, 2, 3)\n"
          ]
        }
      ],
      "source": [
        "# 3d\n",
        "nums = np.array([\n",
        "    [\n",
        "        [1, 2, 3],\n",
        "        [4, 5, 6]\n",
        "    ],\n",
        "    [\n",
        "        [4, 5, 6],\n",
        "        [4, 5, 6]\n",
        "    ],\n",
        "    [\n",
        "        [7, 8, 9],\n",
        "        [4, 5, 6]\n",
        "    ]\n",
        "])\n",
        "\n",
        "# print(nums)\n",
        "# print(type(nums), nums.dtype)\n",
        "# print(nums.shape)\n",
        "# print(nums.ndim)\n",
        "# print(nums.size, len(nums))\n",
        "# print(nums.itemsize)\n",
        "# print(np.sum(nums))"
      ]
    },
    {
      "cell_type": "code",
      "execution_count": null,
      "id": "0916d4e5",
      "metadata": {
        "id": "0916d4e5"
      },
      "outputs": [],
      "source": [
        "nums = np.array([10, 20, 30])\n",
        "# print(nums[0], nums[1], nums[2], nums[3])\n",
        "# print(nums[-1], nums[-2], nums[-3], nums[-4])"
      ]
    },
    {
      "cell_type": "code",
      "execution_count": null,
      "id": "5139378d",
      "metadata": {
        "id": "5139378d",
        "outputId": "4090a666-0e37-4b5b-84f7-f6b562835b9e"
      },
      "outputs": [
        {
          "name": "stdout",
          "output_type": "stream",
          "text": [
            "5 5 5 5\n"
          ]
        }
      ],
      "source": [
        "nums = np.array([\n",
        "    [1, 2, 3],\n",
        "    [4, 5, 6],\n",
        "    [7, 8, 9]\n",
        "])\n",
        "\n",
        "# print(nums[0], nums[1], nums[2])\n",
        "# print(nums[-1], nums[-2], nums[-3])\n",
        "# print(nums[0][0], nums[0][1], nums[2][0])\n",
        "# 7\n",
        "# print(nums[2][0], nums[-1][0], nums[2][-3], nums[-1][-3])\n",
        "# 5\n",
        "# print(nums[-2][-2], nums[-2][1], nums[1][-2], nums[1][1])\n",
        "print(nums[-2, -2], nums[-2, 1], nums[1, -2], nums[1, 1])"
      ]
    },
    {
      "cell_type": "code",
      "execution_count": null,
      "id": "63109ff5",
      "metadata": {
        "id": "63109ff5",
        "outputId": "310cfbbe-41ac-453b-93dd-e28dc8d9d025"
      },
      "outputs": [
        {
          "name": "stdout",
          "output_type": "stream",
          "text": [
            "19 19\n",
            "19 19\n"
          ]
        }
      ],
      "source": [
        "# # 3d\n",
        "# nums = np.array([\n",
        "#     [\n",
        "#         [1, 2, 3],\n",
        "#         [4, 5, 6]\n",
        "#     ],\n",
        "#     [\n",
        "#         [4, 5, 6],\n",
        "#         [4, 5, 6]\n",
        "#     ],\n",
        "#     [\n",
        "#         [7, 8, 19],\n",
        "#         [4, 5, 6]\n",
        "#     ]\n",
        "# ])\n",
        "\n",
        "# print(nums[2][0][2], nums[-1][-2][-1])\n",
        "# print(nums[2, 0, 2], nums[-1, -2, -1])"
      ]
    },
    {
      "cell_type": "code",
      "execution_count": null,
      "id": "ba503516",
      "metadata": {
        "id": "ba503516",
        "outputId": "e0ce12fd-676f-4128-e7df-31885509776c"
      },
      "outputs": [
        {
          "name": "stdout",
          "output_type": "stream",
          "text": [
            "[[1.         1.41421356 1.73205081]\n",
            " [2.         2.23606798 2.44948974]\n",
            " [2.64575131 2.82842712 3.        ]]\n"
          ]
        }
      ],
      "source": [
        "# # zeros\n",
        "# nums = np.zeros((5, 5), dtype='int64') # dtype=float\n",
        "# print(nums)\n",
        "\n",
        "# # ones\n",
        "# nums = np.ones((5, 5), dtype='int64')\n",
        "# print(nums)\n",
        "\n",
        "# full\n",
        "# nums = np.full((5, 5), 20)\n",
        "# print(nums)\n",
        "\n",
        "# # identity matrix\n",
        "# nums = np.identity(4, dtype='int64')\n",
        "# print(nums)\n",
        "\n",
        "# nums = np.array([\n",
        "#     [1, 2, 3],\n",
        "#     [4, 5, 6],\n",
        "#     [7, 8, 9]\n",
        "# ])\n",
        "# print(np.sum(nums))\n",
        "# print(np.sqrt(nums))\n",
        "\n",
        "\n",
        "# # full_like\n",
        "# nums_2 = np.full_like(nums, 0)\n",
        "# print(nums_2)"
      ]
    },
    {
      "cell_type": "code",
      "execution_count": null,
      "id": "63dc4a2b",
      "metadata": {
        "id": "63dc4a2b",
        "outputId": "152f2780-22d8-4f1a-f5b9-62f3f0d09a4c"
      },
      "outputs": [
        {
          "name": "stdout",
          "output_type": "stream",
          "text": [
            "[[[1 2 3]\n",
            "  [4 5 6]\n",
            "  [7 8 9]]]\n"
          ]
        }
      ],
      "source": [
        "# ndmin -> nd minimum\n",
        "# nums = np.array([1, 2, 3], ndmin=2)\n",
        "# print(nums)\n",
        "\n",
        "# nums = np.array([\n",
        "#     [1, 2, 3],\n",
        "#     [4, 5, 6],\n",
        "#     [7, 8, 9]\n",
        "# ], ndmin=3)\n",
        "\n",
        "# print(nums)"
      ]
    },
    {
      "cell_type": "code",
      "execution_count": null,
      "id": "54c92622",
      "metadata": {
        "id": "54c92622",
        "outputId": "c356d363-fda3-4013-abef-44b3d141d4f5"
      },
      "outputs": [
        {
          "name": "stdout",
          "output_type": "stream",
          "text": [
            "[[   1   32]\n",
            " [ 243 1024]]\n",
            "[[  5  25]\n",
            " [125 625]]\n"
          ]
        }
      ],
      "source": [
        "# list_nums = [1, 2, 3]\n",
        "# print(list_nums + 4)\n",
        "\n",
        "# arithmetic operations\n",
        "nums = np.array([\n",
        "    [1, 2],\n",
        "    [3, 4]\n",
        "])\n",
        "\n",
        "# print(nums + 5)\n",
        "# print(5 + nums)\n",
        "# print(nums - 5)\n",
        "# print(5 - nums)\n",
        "# print(nums * 5)\n",
        "# print(5 * nums)\n",
        "# print(nums / 5)\n",
        "# print(5 / nums)\n",
        "# print(nums // 5)\n",
        "# print(5 // nums)\n",
        "# print(nums ** 5)\n",
        "# print(5 ** nums)"
      ]
    },
    {
      "cell_type": "code",
      "execution_count": null,
      "id": "04307a8e",
      "metadata": {
        "id": "04307a8e",
        "outputId": "350fe69a-5693-402d-b5c3-5f27d305d89c"
      },
      "outputs": [
        {
          "name": "stdout",
          "output_type": "stream",
          "text": [
            "[[  1   4]\n",
            " [ 27 256]]\n"
          ]
        }
      ],
      "source": [
        "# addtion\n",
        "nums1 = np.array([\n",
        "    [1, 2],\n",
        "    [3, 4]\n",
        "])\n",
        "\n",
        "nums2 = np.array([\n",
        "    [1, 2],\n",
        "    [3, 4]\n",
        "])\n",
        "\n",
        "# shape should be same\n",
        "# print(nums1 + nums2)\n",
        "# print(nums1 - nums2)\n",
        "# print(nums1 * nums2)\n",
        "# print(nums1 / nums2)\n",
        "# print(nums1 // nums2)\n",
        "# print(nums1 ** nums2)\n",
        "\n",
        "# dot product\n",
        "# print(np.dot(nums1, nums2))"
      ]
    },
    {
      "cell_type": "code",
      "execution_count": null,
      "id": "393f271f",
      "metadata": {
        "id": "393f271f"
      },
      "outputs": [],
      "source": []
    }
  ],
  "metadata": {
    "kernelspec": {
      "display_name": "Python 3 (ipykernel)",
      "language": "python",
      "name": "python3"
    },
    "language_info": {
      "codemirror_mode": {
        "name": "ipython",
        "version": 3
      },
      "file_extension": ".py",
      "mimetype": "text/x-python",
      "name": "python",
      "nbconvert_exporter": "python",
      "pygments_lexer": "ipython3",
      "version": "3.9.12"
    },
    "colab": {
      "provenance": []
    }
  },
  "nbformat": 4,
  "nbformat_minor": 5
}