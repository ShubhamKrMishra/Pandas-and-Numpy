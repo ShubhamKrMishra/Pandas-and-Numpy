{
  "cells": [
    {
      "cell_type": "code",
      "execution_count": null,
      "id": "4e2fee86",
      "metadata": {
        "id": "4e2fee86"
      },
      "outputs": [],
      "source": [
        "import numpy as np"
      ]
    },
    {
      "cell_type": "code",
      "execution_count": null,
      "id": "8a63f25c",
      "metadata": {
        "id": "8a63f25c",
        "outputId": "72a94911-6eaf-4ba5-f8f9-d198e49c7838"
      },
      "outputs": [
        {
          "name": "stdout",
          "output_type": "stream",
          "text": [
            "[[1 2 3]\n",
            " [1 2 3]\n",
            " [1 2 3]\n",
            " [4 5 6]\n",
            " [4 5 6]\n",
            " [4 5 6]]\n"
          ]
        }
      ],
      "source": [
        "# repeat the data\n",
        "# num1 = np.array([1, 2, 3])\n",
        "# num2 = np.repeat(num1, 3)\n",
        "\n",
        "# print(num1)\n",
        "# print(num2)\n",
        "\n",
        "nums = np.array([\n",
        "    [1, 2, 3],\n",
        "    [4, 5, 6]\n",
        "])\n",
        "# num2 = np.repeat(nums, 3) # by default axis = 1 and 1d\n",
        "# num2 = np.repeat(nums, 3, axis=1)\n",
        "num2 = np.repeat(nums, 3, axis=0)\n",
        "\n",
        "# print(nums)\n",
        "print(num2)"
      ]
    },
    {
      "cell_type": "code",
      "execution_count": null,
      "id": "8e6bfce4",
      "metadata": {
        "id": "8e6bfce4",
        "outputId": "c9dc281a-afc9-4d07-d2f1-7406528dde5c"
      },
      "outputs": [
        {
          "name": "stdout",
          "output_type": "stream",
          "text": [
            "[10, 20, 'vasi'] [10, 20, 'vasi']\n",
            "[50, 20, 'vasi'] [50, 20, 'vasi']\n",
            "1394943131840 1394943131840\n"
          ]
        }
      ],
      "source": [
        "# list vs numpy\n",
        "# list -> size, ref count, object type, object value, the data is not contiguous\n",
        "list_1 = [10, 20, 'vasi']\n",
        "list_2 = list_1\n",
        "\n",
        "print(list_1, list_2)\n",
        "# list_1[0] = 50\n",
        "list_2[0] = 50\n",
        "print(list_1, list_2)\n",
        "\n",
        "print(id(list_1), id(list_2))"
      ]
    },
    {
      "cell_type": "code",
      "execution_count": null,
      "id": "b8fc1d73",
      "metadata": {
        "id": "b8fc1d73",
        "outputId": "3364ceb8-e2be-46fe-e98b-04989f0e7e70"
      },
      "outputs": [
        {
          "name": "stdout",
          "output_type": "stream",
          "text": [
            "10 10\n",
            "10 100\n",
            "1394856454736 1394856646096\n"
          ]
        }
      ],
      "source": [
        "num1 = 10\n",
        "num2 = num1\n",
        "\n",
        "print(num1, num2)\n",
        "# num1 = 100\n",
        "num2 = 100\n",
        "print(num1, num2)\n",
        "print(id(num1), id(num2))"
      ]
    },
    {
      "cell_type": "code",
      "execution_count": null,
      "id": "4a2fd392",
      "metadata": {
        "id": "4a2fd392",
        "outputId": "f451795d-a1e2-4a2c-a7f0-472aefe083b4"
      },
      "outputs": [
        {
          "name": "stdout",
          "output_type": "stream",
          "text": [
            "vasanth 10 <class 'str'>\n"
          ]
        }
      ],
      "source": [
        "nums = np.array([1, 2, 3])\n",
        "# print(nums)\n",
        "\n",
        "# num = 'vasanth'\n",
        "# num1 = int(10)\n",
        "# print(num, num1, type(num))"
      ]
    },
    {
      "cell_type": "code",
      "execution_count": null,
      "id": "fa2ead63",
      "metadata": {
        "id": "fa2ead63",
        "outputId": "3ac21503-5595-48b6-fb5a-f9e7e53b5f64"
      },
      "outputs": [
        {
          "name": "stdout",
          "output_type": "stream",
          "text": [
            "14.553620500000306\n",
            "0.12142219999986992\n"
          ]
        }
      ],
      "source": [
        "# speed test\n",
        "# a = np.random.randint(low=10, high=100, size=(3,4))\n",
        "# a = np.random.uniform(low=10, high=100, size=(3,4))\n",
        "# a = np.random.random(1000)\n",
        "# print(a)\n",
        "\n",
        "from timeit import default_timer as timer\n",
        "\n",
        "a = np.random.random(1000)\n",
        "b = np.random.random(1000)\n",
        "\n",
        "l1 = list(a)\n",
        "l2 = list(b)\n",
        "\n",
        "def find_product():\n",
        "    dot = 0\n",
        "    for i in range(len(l1)):\n",
        "        dot += l1[i] * l2[i]\n",
        "    return dot\n",
        "\n",
        "def find_dot():\n",
        "    return np.dot(a, b)\n",
        "\n",
        "start = timer()\n",
        "for i in range(100000):\n",
        "    find_product()\n",
        "end = timer()\n",
        "print(end - start)\n",
        "\n",
        "start = timer()\n",
        "for i in range(100000):\n",
        "    find_dot()\n",
        "end = timer()\n",
        "print(end - start)"
      ]
    },
    {
      "cell_type": "code",
      "execution_count": null,
      "id": "c7bae5c1",
      "metadata": {
        "id": "c7bae5c1",
        "outputId": "d90e7dfb-ed75-4c93-9082-504830fb6573"
      },
      "outputs": [
        {
          "name": "stdout",
          "output_type": "stream",
          "text": [
            "[]\n"
          ]
        }
      ],
      "source": [
        "# slicing -> (start, end+1, step=1)\n",
        "nums = np.array([10, 20, 30, 40, 50])\n",
        "\n",
        "# print(nums[0], nums[1])\n",
        "# print(nums[0:4])\n",
        "# print(nums[4:1])\n",
        "# print(nums[:3])\n",
        "# print(nums[1:])\n",
        "# print(nums[:])\n",
        "# print(nums[0:4:2])\n",
        "# print(nums[1::2])\n",
        "# print(nums[0::2])\n",
        "\n",
        "# print(nums[-3:-1])\n",
        "# print(nums[-2:-5])\n",
        "# print(nums[-5:-1:2])\n",
        "\n",
        "# print(nums[4:1:-1])\n",
        "# print(nums[:2:-1]) # if step is -ve then default starting pt is -1\n",
        "# print(nums[:2: 1]) # if step is +ve then default starting pt is 0"
      ]
    },
    {
      "cell_type": "code",
      "execution_count": null,
      "id": "de93d74a",
      "metadata": {
        "id": "de93d74a",
        "outputId": "acba9c05-d773-474c-d73f-cc9ba3b89095"
      },
      "outputs": [
        {
          "name": "stdout",
          "output_type": "stream",
          "text": [
            "[[11 13 15]\n",
            " [21 23 25]]\n"
          ]
        }
      ],
      "source": [
        "# 2d array -> [(start: end+1: step), (start: end+1: step)] => [rows, cols] -> rows are default\n",
        "nums = np.array([\n",
        "    [11, 12, 13, 14, 15, 16, 17, 18],\n",
        "    [21, 22, 23, 24, 25, 26, 27, 28],\n",
        "])\n",
        "\n",
        "# ---- multiple rows ------\n",
        "# print(nums[:])\n",
        "# print(nums[0:1])\n",
        "# print(nums[0:2])\n",
        "# print(nums[:1])\n",
        "# print(nums[1:])\n",
        "# print(nums[-1:])\n",
        "# print(nums[-1::-1])\n",
        "\n",
        "\n",
        "# 1 row multiple columns\n",
        "# print(nums[0, 1:5])\n",
        "# print(nums[1, -6:6])\n",
        "# print(nums[-2, 2:-3])\n",
        "# print(nums[-1, 2:-3])\n",
        "# print(nums[1, -7:5:2])\n",
        "# print(nums[-2, -3:-6])\n",
        "# print(nums[0, :-7:1])\n",
        "# print(nums[-2, 4:-4])\n",
        "\n",
        "# multiple rows and multiple cols\n",
        "# print(nums[:, 2:7])\n",
        "# print(nums[:1, -6:4])\n",
        "# print(nums[::-1, 2:-3])\n",
        "# print(nums[-1:-2, 0:-7:-1])\n",
        "# print(nums[::1, :5:2])"
      ]
    },
    {
      "cell_type": "code",
      "execution_count": null,
      "id": "b1cca33d",
      "metadata": {
        "id": "b1cca33d",
        "outputId": "b457ffb7-ed69-4f06-a0cb-278851b16cc3"
      },
      "outputs": [
        {
          "name": "stdout",
          "output_type": "stream",
          "text": [
            "[[11 12 13 14 15 16 17 18]\n",
            " [21 22 23 75 25 26 27 28]]\n"
          ]
        }
      ],
      "source": [
        "# change value using slicing\n",
        "nums = np.array([\n",
        "    [11, 12, 13, 14, 15, 16, 17, 18],\n",
        "    [21, 22, 23, 24, 25, 26, 27, 28],\n",
        "])\n",
        "\n",
        "# nums[0][5] = 10\n",
        "# nums[1, 3:5] = 20\n",
        "nums[1, 3] = 75\n",
        "print(nums)"
      ]
    },
    {
      "cell_type": "code",
      "execution_count": null,
      "id": "aa661b4c",
      "metadata": {
        "id": "aa661b4c",
        "outputId": "8d9f3018-5d88-4b93-edf4-355e27c446d6"
      },
      "outputs": [
        {
          "name": "stdout",
          "output_type": "stream",
          "text": [
            "[[ 1  2  3]\n",
            " [10  4  5]\n",
            " [ 6 10  7]\n",
            " [ 8  9 10]]\n"
          ]
        }
      ],
      "source": [
        "# cross product\n",
        "# n1 = np.array([4, 9, 12])\n",
        "# n2 = np.array([10, 20, 30])\n",
        "\n",
        "# print(np.cross(n1, n2))\n",
        "\n",
        "# reshaping the array\n",
        "# nums = np.array([1, 2, 3, 4, 5, 6])\n",
        "# print(nums.shape)\n",
        "\n",
        "# print(nums.reshape(2, 3))\n",
        "# print(nums.reshape(3, 2))\n",
        "# print(nums.reshape(2, 4)) # error\n",
        "\n",
        "\n",
        "# 2d\n",
        "nums = np.array([\n",
        "    [1, 2, 3, 10],\n",
        "    [4, 5, 6, 10],\n",
        "    [7, 8, 9, 10]\n",
        "])\n",
        "\n",
        "# print(nums.shape)\n",
        "# print(nums.reshape(2, 6))\n",
        "# print(nums.reshape(4, 3))\n",
        "# print(nums.reshape(6, 2))\n",
        "# print(nums.reshape(12, 1))\n",
        "# print(nums.reshape(1, 12))\n",
        "# print(nums.reshape(2, 3))"
      ]
    },
    {
      "cell_type": "code",
      "execution_count": null,
      "id": "a3ea6d0a",
      "metadata": {
        "id": "a3ea6d0a",
        "outputId": "1654fad0-6518-47ef-94a3-e7e54961eb58"
      },
      "outputs": [
        {
          "name": "stdout",
          "output_type": "stream",
          "text": [
            "[[1 2 3 4]\n",
            " [5 6 7 8]\n",
            " [1 2 3 4]\n",
            " [1 2 3 4]\n",
            " [5 6 7 8]]\n"
          ]
        }
      ],
      "source": [
        "# horizontal stack\n",
        "n1 = np.array([1, 2, 3, 4])\n",
        "n2 = np.array([5, 6, 7, 8])\n",
        "\n",
        "# print(np.hstack([n1, n2, n1, n1, n2]))\n",
        "\n",
        "# vertical stack\n",
        "# print(np.vstack([n1, n2, n1, n1, n2]))"
      ]
    },
    {
      "cell_type": "code",
      "execution_count": null,
      "id": "6bb7a9e4",
      "metadata": {
        "id": "6bb7a9e4"
      },
      "outputs": [],
      "source": [
        "# splitting -> vertical splitting(default)\n",
        "nums = np.array([\n",
        "    [1, 2, 3, 4],\n",
        "    [5, 6, 73, 8],\n",
        "    [9, 110, 11 ,12],\n",
        "    [1, 2, 3, 4],\n",
        "    [5, 6, 7, 8],\n",
        "    [9, 10, 11 ,12]\n",
        "])\n",
        "\n",
        "# uniform splitting\n",
        "# from pprint import pprint # pretty print\n",
        "# pprint(np.vsplit(nums, 3))\n",
        "# pprint(np.vsplit(nums, 3)[0])\n",
        "# pprint(np.vsplit(nums, 3)[1])\n",
        "# pprint(np.vsplit(nums, 3)[2])\n",
        "\n",
        "\n",
        "# pprint(np.split(nums, 2))\n",
        "# pprint(np.split(nums, 2)[0])\n",
        "# pprint(np.split(nums, 2)[1])\n",
        "\n",
        "# pprint(np.split(nums, 4))  # error\n",
        "\n",
        "# custom cut\n",
        "# pprint(np.split(nums, [1, 3]))\n",
        "# pprint(np.split(nums, [1, 3])[0])\n",
        "# pprint(np.split(nums, [1, 3])[1])\n",
        "# pprint(np.split(nums, [1, 3])[2])\n",
        "\n",
        "# pprint(np.split(nums, [2, 4]))\n",
        "# pprint(np.split(nums, [2, 4])[0])\n",
        "# pprint(np.split(nums, [2, 4])[1])\n",
        "# pprint(np.split(nums, [2, 4])[2])\n",
        "\n",
        "# pprint(np.split(nums, [1, 3, 4]))\n",
        "# pprint(np.split(nums, [1, 3, 4])[0])\n",
        "# pprint(np.split(nums, [1, 3, 4])[1])\n",
        "# pprint(np.split(nums, [1, 3, 4])[2])\n",
        "# # pprint(np.split(nums, [1, 3, 4])[3])\n",
        "\n",
        "# # pprint(np.split(nums, [1, 4, 3]))\n",
        "# pprint(np.split(nums, [1, 4, 3])[0])\n",
        "# pprint(np.split(nums, [1, 4, 3])[1])\n",
        "# pprint(np.split(nums, [1, 4, 3])[2])\n",
        "# pprint(np.split(nums, [1, 4, 3])[3])"
      ]
    },
    {
      "cell_type": "code",
      "execution_count": null,
      "id": "1bc47359",
      "metadata": {
        "id": "1bc47359"
      },
      "outputs": [],
      "source": [
        "# horizontal splitting\n",
        "nums = np.array([\n",
        "    [1, 2, 3, 4],\n",
        "    [5, 6, 7, 8],\n",
        "    [9, 10, 11 ,12]\n",
        "])\n",
        "\n",
        "# uniformly\n",
        "# pprint(np.hsplit(nums, 2))\n",
        "# pprint(np.hsplit(nums, 2)[0])\n",
        "# pprint(np.hsplit(nums, 2)[1])\n",
        "\n",
        "# pprint(np.hsplit(nums, 3)) # error\n",
        "\n",
        "# custom\n",
        "# print(np.hsplit(nums, [1, 3]))\n",
        "# print(np.hsplit(nums, [1, 3])[0])\n",
        "# print(np.hsplit(nums, [1, 3])[1])\n",
        "# print(np.hsplit(nums, [1, 3])[2])"
      ]
    },
    {
      "cell_type": "code",
      "execution_count": null,
      "id": "eadde0f2",
      "metadata": {
        "id": "eadde0f2",
        "outputId": "5fe37dd5-a4e2-4d8a-c9fa-836b9145b134"
      },
      "outputs": [
        {
          "name": "stdout",
          "output_type": "stream",
          "text": [
            "[[False False  True False]\n",
            " [False False  True  True]]\n",
            "[10  6  8]\n"
          ]
        }
      ],
      "source": [
        "# comparison operators -> bool -> boolean matrix\n",
        "nums = np.array([\n",
        "    [1, 2, 10, 4],\n",
        "    [4, 5, 6, 8]\n",
        "])\n",
        "\n",
        "print(nums > 5)\n",
        "# print(nums >= 5)\n",
        "# print(nums < 5)\n",
        "# print(nums <= 5)\n",
        "# print(nums == 5)\n",
        "# print(nums != 5)\n",
        "\n",
        "# filtering the data based on condition\n",
        "print(nums[nums > 5])\n",
        "\n",
        "# print(nums % 2 == 0)\n",
        "# even_nos = (nums % 2 == 0)\n",
        "# print(nums % 2 == 0)\n",
        "# odd_nos = (nums % 2 != 0)\n",
        "# print(nums[even_nos])"
      ]
    },
    {
      "cell_type": "code",
      "execution_count": null,
      "id": "af5b0843",
      "metadata": {
        "id": "af5b0843",
        "outputId": "7cb32439-be83-4ac3-a1d9-a093643b0006"
      },
      "outputs": [
        {
          "name": "stdout",
          "output_type": "stream",
          "text": [
            "-2.9999999999999996\n"
          ]
        }
      ],
      "source": [
        "# linear algebra -> det (ad - bc)\n",
        "nums = np.array([\n",
        "    [1, 2],\n",
        "    [4, 5]\n",
        "])\n",
        "\n",
        "# print(np.linalg.det(nums))"
      ]
    },
    {
      "cell_type": "code",
      "execution_count": null,
      "id": "81f618c5",
      "metadata": {
        "id": "81f618c5",
        "outputId": "9d7cb538-c48b-47b8-a1cd-4f4798f61a10"
      },
      "outputs": [
        {
          "name": "stdout",
          "output_type": "stream",
          "text": [
            "[[-1.66666667  0.66666667]\n",
            " [ 1.33333333 -0.33333333]]\n"
          ]
        }
      ],
      "source": [
        "# inverse of matrix -> 1/det(nums) * adj(nums)\n",
        "nums = np.array([\n",
        "    [1, 2],\n",
        "    [4, 5]\n",
        "])\n",
        "\n",
        "print(np.linalg.inv(nums))"
      ]
    },
    {
      "cell_type": "code",
      "execution_count": null,
      "id": "8f3dfe60",
      "metadata": {
        "id": "8f3dfe60",
        "outputId": "2c236113-68f8-453a-e5b8-77a8b75ffd5d"
      },
      "outputs": [
        {
          "data": {
            "text/plain": [
              "1.0"
            ]
          },
          "execution_count": 227,
          "metadata": {},
          "output_type": "execute_result"
        }
      ],
      "source": [
        "# 3.000000000000000000000000000000000005 - 2.000000000000000000000007"
      ]
    },
    {
      "cell_type": "code",
      "execution_count": null,
      "id": "624ef72a",
      "metadata": {
        "id": "624ef72a",
        "outputId": "29ddd13f-d73a-4fdf-e82b-2049b1d24951"
      },
      "outputs": [
        {
          "name": "stdout",
          "output_type": "stream",
          "text": [
            "[[  1  70   6  34]\n",
            " [ 22  99  66  65]\n",
            " [656 310  95  87]]\n"
          ]
        }
      ],
      "source": [
        "# transpose\n",
        "nums = np.array([\n",
        "    [1, 2, 3, 4],\n",
        "    [4, 5, 6, 7]\n",
        "])\n",
        "\n",
        "# print(np.transpose(nums))\n",
        "\n",
        "# sorting\n",
        "nums = np.array([\n",
        "    [1, 310, 6, 87],\n",
        "    [22, 70, 66, 34],\n",
        "    [656, 99, 95, 65]\n",
        "])\n",
        "\n",
        "# print(np.sort(nums))\n",
        "# print(np.sort(nums, axis=0))\n",
        "# print(np.sort(nums, axis=1))"
      ]
    },
    {
      "cell_type": "code",
      "execution_count": null,
      "id": "adeb665f",
      "metadata": {
        "id": "adeb665f",
        "outputId": "8999edab-e009-494e-e1f1-a5922f8922dd"
      },
      "outputs": [
        {
          "name": "stdout",
          "output_type": "stream",
          "text": [
            "[[  2 312   9  91]\n",
            " [ 23  72  69  38]\n",
            " [657 101  98  69]]\n"
          ]
        }
      ],
      "source": [
        "# broadcasting\n",
        "a = np.array([\n",
        "    [1, 310, 6, 87],\n",
        "    [22, 70, 66, 34],\n",
        "    [656, 99, 95, 65]\n",
        "])\n",
        "\n",
        "b = np.array([1, 2, 3, 4])\n",
        "\n",
        "print(a + b)"
      ]
    },
    {
      "cell_type": "code",
      "execution_count": null,
      "id": "ced78393",
      "metadata": {
        "id": "ced78393",
        "outputId": "b16c32b0-1e78-468a-d0b3-b3b3fbf3e796"
      },
      "outputs": [
        {
          "name": "stdout",
          "output_type": "stream",
          "text": [
            "55.80246913580247\n"
          ]
        }
      ],
      "source": [
        "# statistics\n",
        "nums = np.array([\n",
        "    [1, 2, 3],\n",
        "    [4, 15, 26],\n",
        "    [7, 8, 10]\n",
        "])\n",
        "\n",
        "# print(np.mean(nums))\n",
        "# print(np.median(nums))\n",
        "# print(np.std(nums)) # std deviation\n",
        "print(np.var(nums)) # variance"
      ]
    },
    {
      "cell_type": "code",
      "execution_count": null,
      "id": "52a0d90b",
      "metadata": {
        "id": "52a0d90b",
        "outputId": "729cf5da-cc1e-42cf-e208-b51302fbcd72"
      },
      "outputs": [
        {
          "name": "stdout",
          "output_type": "stream",
          "text": [
            "array([[  1.,  13.,  21.,  11., 196.,  75.,   4.,   3.,  34.,   6.,   7.,\n",
            "          8.,   0.,   1.,   2.,   3.,   4.,   5.],\n",
            "       [  3.,  42.,  12.,  33., 766.,  75.,   4.,  55.,   6.,   4.,   3.,\n",
            "          4.,   5.,   6.,   7.,   0.,  11.,  12.],\n",
            "       [  1.,  22.,  33.,  11., 999.,  11.,   2.,   1.,  78.,   0.,   1.,\n",
            "          2.,   9.,   8.,   7.,   1.,  76.,  88.]])\n"
          ]
        }
      ],
      "source": [
        "# load files in numpy\n",
        "values = np.genfromtxt('./data.txt', delimiter=',')\n",
        "pprint(values)\n",
        "# print(type(values))"
      ]
    },
    {
      "cell_type": "code",
      "execution_count": null,
      "id": "dbeabc65",
      "metadata": {
        "id": "dbeabc65"
      },
      "outputs": [],
      "source": []
    }
  ],
  "metadata": {
    "kernelspec": {
      "display_name": "Python 3 (ipykernel)",
      "language": "python",
      "name": "python3"
    },
    "language_info": {
      "codemirror_mode": {
        "name": "ipython",
        "version": 3
      },
      "file_extension": ".py",
      "mimetype": "text/x-python",
      "name": "python",
      "nbconvert_exporter": "python",
      "pygments_lexer": "ipython3",
      "version": "3.9.12"
    },
    "colab": {
      "provenance": []
    }
  },
  "nbformat": 4,
  "nbformat_minor": 5
}